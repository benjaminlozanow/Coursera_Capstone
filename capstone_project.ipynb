{
 "cells": [
  {
   "cell_type": "markdown",
   "metadata": {},
   "source": [
    "#### IBM Data Science Professional Certificate\n",
    "# Capstone Project: \n",
    "## A geographical insight into the city of Santiago, Chile\n",
    "\n",
    "\n",
    "\n"
   ]
  },
  {
   "cell_type": "markdown",
   "metadata": {},
   "source": [
    "## Introduction  \n",
    "\n",
    "Chile is currently in second place of the countries with greatest income inequeality among the OECD's members. This income differences have led to a spatial inequality where there is a physical segregation of people due to their socioeconomic status. The most dramatic effect it is observed in Santiago, the capital of Chile and the biggest and most populated city in the country. \n",
    "\n",
    "In this project I will try to use machine learning methods in order to analyze how the inequality has affected the local venues and how different are the Santiago's comunes (neighbourhoods) in terms of their venues' diversity."
   ]
  },
  {
   "cell_type": "markdown",
   "metadata": {},
   "source": [
    "## Data  \n",
    "\n",
    "In order to accomplish the defined goal I will use the following sources of information:  \n",
    "- The list of comunes per region and their spatial coordinates (latitude and longitude) come from a public **Github** repository called [geo_chile](https://github.com/2x3-la/geo-chile) from *2x3-la*.  \n",
    "- The venues, their category and location will be extracted using the **Foursquare API**."
   ]
  },
  {
   "cell_type": "markdown",
   "metadata": {},
   "source": [
    "### Data preparation"
   ]
  },
  {
   "cell_type": "code",
   "execution_count": 94,
   "metadata": {},
   "outputs": [],
   "source": [
    "import pandas as pd\n",
    "import json"
   ]
  },
  {
   "cell_type": "code",
   "execution_count": 9,
   "metadata": {},
   "outputs": [],
   "source": [
    "url = 'https://raw.githubusercontent.com/2x3-la/geo-chile/master/chile_with_regions.json'"
   ]
  },
  {
   "cell_type": "code",
   "execution_count": 12,
   "metadata": {},
   "outputs": [],
   "source": [
    "!wget -q -O 'cl_data.json' https://raw.githubusercontent.com/2x3-la/geo-chile/master/chile_with_regions.json"
   ]
  },
  {
   "cell_type": "code",
   "execution_count": 49,
   "metadata": {},
   "outputs": [],
   "source": [
    "with open('cl_data.json') as json_data:\n",
    "    cl_data = json.load(json_data)\n"
   ]
  },
  {
   "cell_type": "code",
   "execution_count": 24,
   "metadata": {},
   "outputs": [],
   "source": [
    "cols = ['Region', 'Comuna', 'Latitude', 'Longitude']\n",
    "\n",
    "cl_df = pd.DataFrame(columns = cols)"
   ]
  },
  {
   "cell_type": "code",
   "execution_count": 46,
   "metadata": {},
   "outputs": [],
   "source": [
    "for reg in cl_data:\n",
    "    region = reg\n",
    "    for data in cl_data[reg]: \n",
    "        comuna = data['name']\n",
    "        lat = data['lat']\n",
    "        lon = data['lng']\n",
    "        cl_df = cl_df.append({'Region': region,\n",
    "                              'Comuna': comuna, \n",
    "                              'Latitude': lat, \n",
    "                              'Longitude': lon}, ignore_index = True)"
   ]
  },
  {
   "cell_type": "code",
   "execution_count": 79,
   "metadata": {},
   "outputs": [
    {
     "data": {
      "text/plain": [
       "Region        object\n",
       "Comuna        object\n",
       "Latitude     float32\n",
       "Longitude    float32\n",
       "dtype: object"
      ]
     },
     "execution_count": 79,
     "metadata": {},
     "output_type": "execute_result"
    }
   ],
   "source": [
    "cl_df['Latitude'] = pd.to_numeric(cl_df['Latitude'], downcast = 'float')\n",
    "cl_df['Longitude'] = pd.to_numeric(cl_df['Longitude'], downcast = 'float')"
   ]
  },
  {
   "cell_type": "code",
   "execution_count": 96,
   "metadata": {},
   "outputs": [],
   "source": [
    "scl_df = cl_df[cl_df['Region'] == 'Metropolitana'].reset_index(drop = True)"
   ]
  },
  {
   "cell_type": "code",
   "execution_count": null,
   "metadata": {},
   "outputs": [],
   "source": []
  }
 ],
 "metadata": {
  "kernelspec": {
   "display_name": "Python 3",
   "language": "python",
   "name": "python3"
  },
  "language_info": {
   "codemirror_mode": {
    "name": "ipython",
    "version": 3
   },
   "file_extension": ".py",
   "mimetype": "text/x-python",
   "name": "python",
   "nbconvert_exporter": "python",
   "pygments_lexer": "ipython3",
   "version": "3.8.5"
  }
 },
 "nbformat": 4,
 "nbformat_minor": 4
}
